{
  "nbformat": 4,
  "nbformat_minor": 0,
  "metadata": {
    "colab": {
      "provenance": [],
      "authorship_tag": "ABX9TyMPiKznoYdtlyJ0EPWdVHC6",
      "include_colab_link": true
    },
    "kernelspec": {
      "name": "python3",
      "display_name": "Python 3"
    },
    "language_info": {
      "name": "python"
    }
  },
  "cells": [
    {
      "cell_type": "markdown",
      "metadata": {
        "id": "view-in-github",
        "colab_type": "text"
      },
      "source": [
        "<a href=\"https://colab.research.google.com/github/Denis-Davydov-get/python_2_kurs/blob/main/%D0%94%D0%97_%D0%A3%D1%80%D0%BE%D0%BA_9_%D0%A0%D0%B0%D0%B1%D0%BE%D1%82%D0%B0_%D1%81_%D1%82%D0%B0%D0%B1%D0%BB%D0%B8%D1%87%D0%BD%D1%8B%D0%BC%D0%B8_%D0%B4%D0%B0%D0%BD%D0%BD%D1%8B%D0%BC%D0%B8.ipynb\" target=\"_parent\"><img src=\"https://colab.research.google.com/assets/colab-badge.svg\" alt=\"Open In Colab\"/></a>"
      ]
    },
    {
      "cell_type": "markdown",
      "source": [
        "# Урок 9. \n",
        "# Работа с табличными данными \n",
        "- Задача 40: Определить среднюю стоимость дома, где кол-во людей от 0 до 500 (population).\n",
        "\n",
        "- Задача 42: Узнать какая максимальная households в зоне минимального значения population."
      ],
      "metadata": {
        "id": "qz46pZ-N-yjl"
      }
    },
    {
      "cell_type": "code",
      "source": [
        "from numpy.core.fromnumeric import mean\n",
        "import pandas as pd\n",
        "\n",
        "df = pd.read_csv(\"/content/sample_data/california_housing_train.csv\")\n"
      ],
      "metadata": {
        "id": "VQAs-Zvs_IEA"
      },
      "execution_count": null,
      "outputs": []
    },
    {
      "cell_type": "code",
      "source": [
        "df[\n",
        "    (df['population'] > 0) & \n",
        "    (df['population'] < 500)\n",
        "  ] ['median_house_value'].mean()"
      ],
      "metadata": {
        "id": "hMGym79Fwkp-",
        "outputId": "5314049f-2b6d-4d32-ee28-475586701847",
        "colab": {
          "base_uri": "https://localhost:8080/"
        }
      },
      "execution_count": null,
      "outputs": [
        {
          "output_type": "execute_result",
          "data": {
            "text/plain": [
              "206683.83635227982"
            ]
          },
          "metadata": {},
          "execution_count": 49
        }
      ]
    },
    {
      "cell_type": "code",
      "source": [
        "df[\n",
        "    (df['population'])==(df['population'].min())\n",
        "    ]['households'].max()"
      ],
      "metadata": {
        "id": "FbVhT-8V_Nbs",
        "colab": {
          "base_uri": "https://localhost:8080/"
        },
        "outputId": "5289d926-815b-433a-810f-e76b0a63e07b"
      },
      "execution_count": null,
      "outputs": [
        {
          "output_type": "execute_result",
          "data": {
            "text/plain": [
              "4.0"
            ]
          },
          "metadata": {},
          "execution_count": 48
        }
      ]
    },
    {
      "cell_type": "code",
      "source": [],
      "metadata": {
        "id": "mzBIJ45Pjn6y"
      },
      "execution_count": null,
      "outputs": []
    }
  ]
}